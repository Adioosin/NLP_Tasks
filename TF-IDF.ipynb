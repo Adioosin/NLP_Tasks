{
 "cells": [
  {
   "cell_type": "code",
   "execution_count": 1,
   "metadata": {},
   "outputs": [
    {
     "name": "stdout",
     "output_type": "stream",
     "text": [
      "['how deep IS your love? If there is a phrase I would prefer to retir from onlin bios, person or professional, it is, \"I love travel.\" Or some approxim of that sentiment. To clarify, I am not against travel or those who proudli flaunt their passion for travel. On the contrary, edit a travel magazin ha now made me oddli protect of travel and their ilk. My submiss is that \"love to travel,\" suggest so casually, just doesn\\'t feel adequ to the depth of emot it spark in true devotees. In february, the month of love as endow by our great gift industri complex, we are wrestl with what \"love for travel\" mean in tangible, life-affect terms. the earli throe of discov travel might not be too dissimilar to the begin of a feverish affair.', 'summer is a charm flirt. easy-go and casual. summer doesn\\'t huff and puff to win our affections. It ha us at \"hello.\" winter brood like the tortur protagonist of big fat russian novel. It is daunt and dramatic, burn with a slow intensity. the season\\' reput preced itself, and often, not in a good way. It ha a way of whit down everyth to it bare bones. even relationship not attun to it ebb and flow can fray. At a dinner converes I onc attended, I listen in bemus as a recent divorce made the case that it wa the scandinavian frost that had cool hi ex-wife\\' ardour. how original.']\n",
      "{'how': 73, 'deep': 35, 'is': 80, 'your': 158, 'love': 87, 'if': 75, 'there': 137, 'phrase': 109, 'would': 156, 'prefer': 111, 'to': 140, 'retir': 120, 'from': 63, 'onlin': 103, 'bios': 19, 'person': 108, 'or': 104, 'professional': 112, 'it': 81, 'travel': 143, 'some': 127, 'approxim': 7, 'of': 99, 'that': 134, 'sentiment': 124, 'clarify': 29, 'am': 5, 'not': 95, 'against': 4, 'those': 138, 'who': 151, 'proudli': 115, 'flaunt': 58, 'their': 136, 'passion': 107, 'for': 61, 'on': 101, 'the': 135, 'contrary': 31, 'edit': 48, 'magazin': 89, 'ha': 69, 'now': 97, 'made': 88, 'me': 90, 'oddli': 98, 'protect': 114, 'and': 6, 'ilk': 76, 'my': 94, 'submiss': 129, 'suggest': 130, 'so': 126, 'casually': 27, 'just': 83, 'doesn': 42, 'feel': 56, 'adequ': 0, 'depth': 36, 'emot': 49, 'spark': 128, 'in': 77, 'true': 144, 'devotees': 37, 'february': 55, 'month': 93, 'as': 10, 'endow': 50, 'by': 23, 'our': 106, 'great': 68, 'gift': 65, 'industri': 78, 'complex': 30, 'we': 148, 'are': 9, 'wrestl': 157, 'with': 155, 'what': 149, 'mean': 91, 'tangible': 132, 'life': 84, 'affect': 2, 'terms': 133, 'earli': 45, 'throe': 139, 'discov': 39, 'might': 92, 'be': 15, 'too': 141, 'dissimilar': 40, 'begin': 16, 'feverish': 57, 'affair': 1, 'summer': 131, 'charm': 28, 'flirt': 59, 'easy': 46, 'go': 66, 'casual': 26, 'huff': 74, 'puff': 116, 'win': 153, 'affections': 3, 'us': 145, 'at': 11, 'hello': 71, 'winter': 154, 'brood': 21, 'like': 85, 'tortur': 142, 'protagonist': 113, 'big': 18, 'fat': 54, 'russian': 121, 'novel': 96, 'daunt': 34, 'dramatic': 44, 'burn': 22, 'slow': 125, 'intensity': 79, 'season': 123, 'reput': 119, 'preced': 110, 'itself': 82, 'often': 100, 'good': 67, 'way': 147, 'whit': 150, 'down': 43, 'everyth': 52, 'bare': 14, 'bones': 20, 'even': 51, 'relationship': 118, 'attun': 13, 'ebb': 47, 'flow': 60, 'can': 24, 'fray': 62, 'dinner': 38, 'converes': 32, 'onc': 102, 'attended': 12, 'listen': 86, 'bemus': 17, 'recent': 117, 'divorce': 41, 'case': 25, 'wa': 146, 'scandinavian': 122, 'frost': 64, 'had': 70, 'cool': 33, 'hi': 72, 'ex': 53, 'wife': 152, 'ardour': 8, 'original': 105}\n",
      "[[0.18336378]]\n"
     ]
    }
   ],
   "source": [
    "import nltk\n",
    "from nltk.stem import PorterStemmer\n",
    "from sklearn.feature_extraction.text import CountVectorizer\n",
    "from sklearn.feature_extraction.text import TfidfVectorizer\n",
    "from sklearn.metrics.pairwise import cosine_similarity\n",
    "stemmer=PorterStemmer()\n",
    "doc1=\"HOW DEEP IS YOUR LOVE? If there is a phrase I would prefer to retire from online bios, personal or professional, it is, \\\"I love travel.\\\" Or some approximation of that sentiment. To clarify, I am not against travellers or those who proudly flaunt their passion for travel. On the contrary, editing a travel magazine has now made me oddly protective of travellers and their ilk. My submission is that \\\"love to travel,\\\" suggested so casually, just doesn't feel adequate to the depth of emotion it sparks in true devotees. In February, the month of love as endowed by our great gifting industrial complex, we are wrestling with what \\\"love for travel\\\" means in tangible, life-affecting terms. The early throes of discovering travel might not be too dissimilar to the beginnings of a feverish affair.\"\n",
    "doc1=[stemmer.stem(token) for token in doc1.split(\" \")]\n",
    "doc2=\"Summer is a charming flirt. Easy-going and casual. Summer doesn't huff and puff to win our affections. It has us at \\\"Hello.\\\" Winter broods like the tortured protagonist of big fat Russian novel. It is daunting and dramatic, burning with a slow intensity. The season's reputation precedes itself, and often, not in a good way. It has a way of whitting down everything to its bare bones. Even relationships not attuned to its ebbs and flows can fray. At a dinner converesation I once attended, I listened in bemusement as a recent divorcee made the case that it was the Scandinavian frost that had cooled his ex-wife's ardour. How original.\"\n",
    "doc2=[stemmer.stem(token) for token in doc2.split(\" \")]\n",
    "#corpus=[doc1,doc2]\n",
    "corpus=[\" \".join(doc1),\" \".join(doc2)]\n",
    "vect=CountVectorizer(binary=True)\n",
    "print(corpus)\n",
    "vect.fit(corpus)\n",
    "#sim=cosine_similarity(vect.transform([doc1]).toarray(),vect.transform([doc2]).toarray())\n",
    "sim=cosine_similarity(vect.transform([\" \".join(doc1)]).toarray(),vect.transform([\" \".join(doc2)]).toarray())\n",
    "print(vect.vocabulary_)\n",
    "print(sim)"
   ]
  },
  {
   "cell_type": "code",
   "execution_count": null,
   "metadata": {
    "collapsed": true
   },
   "outputs": [],
   "source": []
  }
 ],
 "metadata": {
  "kernelspec": {
   "display_name": "Python [conda env:Anaconda3]",
   "language": "python",
   "name": "conda-env-Anaconda3-py"
  },
  "language_info": {
   "codemirror_mode": {
    "name": "ipython",
    "version": 3
   },
   "file_extension": ".py",
   "mimetype": "text/x-python",
   "name": "python",
   "nbconvert_exporter": "python",
   "pygments_lexer": "ipython3",
   "version": "3.6.3"
  },
  "varInspector": {
   "cols": {
    "lenName": 16,
    "lenType": 16,
    "lenVar": 40
   },
   "kernels_config": {
    "python": {
     "delete_cmd_postfix": "",
     "delete_cmd_prefix": "del ",
     "library": "var_list.py",
     "varRefreshCmd": "print(var_dic_list())"
    },
    "r": {
     "delete_cmd_postfix": ") ",
     "delete_cmd_prefix": "rm(",
     "library": "var_list.r",
     "varRefreshCmd": "cat(var_dic_list()) "
    }
   },
   "types_to_exclude": [
    "module",
    "function",
    "builtin_function_or_method",
    "instance",
    "_Feature"
   ],
   "window_display": false
  }
 },
 "nbformat": 4,
 "nbformat_minor": 2
}
