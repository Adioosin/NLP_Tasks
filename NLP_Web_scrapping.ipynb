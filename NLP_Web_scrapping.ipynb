{
 "cells": [
  {
   "cell_type": "code",
   "execution_count": 2,
   "metadata": {
    "collapsed": true
   },
   "outputs": [],
   "source": [
    "import urllib.request"
   ]
  },
  {
   "cell_type": "code",
   "execution_count": 3,
   "metadata": {
    "collapsed": true
   },
   "outputs": [],
   "source": [
    "sakshi = \"https://www.tutorialspoint.com/java/\"\n",
    "page = urllib.request.urlopen(sakshi)"
   ]
  },
  {
   "cell_type": "code",
   "execution_count": 4,
   "metadata": {},
   "outputs": [
    {
     "name": "stderr",
     "output_type": "stream",
     "text": [
      "C:\\ProgramData\\Anaconda3\\lib\\site-packages\\bs4\\__init__.py:181: UserWarning: No parser was explicitly specified, so I'm using the best available HTML parser for this system (\"lxml\"). This usually isn't a problem, but if you run this code on another system, or in a different virtual environment, it may use a different parser and behave differently.\n",
      "\n",
      "The code that caused this warning is on line 193 of the file C:\\ProgramData\\Anaconda3\\lib\\runpy.py. To get rid of this warning, change code that looks like this:\n",
      "\n",
      " BeautifulSoup(YOUR_MARKUP})\n",
      "\n",
      "to this:\n",
      "\n",
      " BeautifulSoup(YOUR_MARKUP, \"lxml\")\n",
      "\n",
      "  markup_type=markup_type))\n"
     ]
    }
   ],
   "source": [
    "from bs4 import BeautifulSoup\n",
    "soup = BeautifulSoup(page)"
   ]
  },
  {
   "cell_type": "code",
   "execution_count": 5,
   "metadata": {},
   "outputs": [
    {
     "data": {
      "text/plain": [
       "<title>Java Tutorial</title>"
      ]
     },
     "execution_count": 5,
     "metadata": {},
     "output_type": "execute_result"
    }
   ],
   "source": [
    "soup.title"
   ]
  },
  {
   "cell_type": "code",
   "execution_count": 6,
   "metadata": {},
   "outputs": [
    {
     "data": {
      "text/plain": [
       "'Java Tutorial'"
      ]
     },
     "execution_count": 6,
     "metadata": {},
     "output_type": "execute_result"
    }
   ],
   "source": [
    "soup.title.string"
   ]
  },
  {
   "cell_type": "code",
   "execution_count": 7,
   "metadata": {},
   "outputs": [
    {
     "data": {
      "text/plain": [
       "<a href=\"index.htm\" title=\"tutorialspoint\">\n",
       "<img alt=\"tutorialspoint\" src=\"/java/images/logo.png\"/>\n",
       "</a>"
      ]
     },
     "execution_count": 7,
     "metadata": {},
     "output_type": "execute_result"
    }
   ],
   "source": [
    "soup.a"
   ]
  },
  {
   "cell_type": "code",
   "execution_count": 8,
   "metadata": {
    "collapsed": true
   },
   "outputs": [],
   "source": [
    "all_links=soup.find_all(\"a\")"
   ]
  },
  {
   "cell_type": "code",
   "execution_count": 9,
   "metadata": {},
   "outputs": [
    {
     "data": {
      "text/plain": [
       "[<a href=\"index.htm\" title=\"tutorialspoint\">\n",
       " <img alt=\"tutorialspoint\" src=\"/java/images/logo.png\"/>\n",
       " </a>,\n",
       " <a href=\"/about/about_careers.htm\" style=\"background: #fffb09; font-weight: bold;\"><i class=\"icon icon-suitcase\"></i> Jobs</a>,\n",
       " <a href=\"/programming_examples/\" target=\"_blank\"><i class=\"fa fa-cubes\"></i>  Examples</a>,\n",
       " <a href=\"https://www.tutorialspoint.com/whiteboard.htm\"><img alt=\"Whiteboard\" src=\"theme/css/icons/image-editor.png\" title=\"Whiteboard\"/>  Whiteboard</a>,\n",
       " <a href=\"https://www.tutorialspoint.com/netmeeting.php\"><i class=\"fa-camera\"></i>  Net Meeting</a>,\n",
       " <a href=\"/online_dev_tools.htm\"> <i class=\"dev-tools-menu\" style=\"opacity:.5\"></i> Tools </a>,\n",
       " <a href=\"/articles/index.php\"><i class=\"icon icon-file-text-o\"></i>  Articles</a>,\n",
       " <a data-placement=\"bottom\" href=\"https://www.facebook.com/tutorialspointindia\" rel=\"nofollow\" target=\"_blank\" title=\"tutorialspoint @ Facebook\">Facebook</a>,\n",
       " <a data-placement=\"bottom\" href=\"https://plus.google.com/u/0/116678774017490391259/posts\" rel=\"nofollow\" target=\"_blank\" title=\"tutorialspoint @ Google+\">Google+</a>,\n",
       " <a data-placement=\"bottom\" href=\"https://www.twitter.com/tutorialspoint\" rel=\"nofollow\" target=\"_blank\" title=\"tutorialspoint @ Twitter\">Twitter</a>,\n",
       " <a data-placement=\"bottom\" href=\"https://www.linkedin.com/company/tutorialspoint\" rel=\"nofollow\" target=\"_blank\" title=\"tutorialspoint @ Linkedin\">Linkedin</a>,\n",
       " <a data-placement=\"bottom\" href=\"https://www.youtube.com/channel/UCVLbzhxVTiTLiVKeGV7WEBg\" rel=\"nofollow\" target=\"_blank\" title=\"tutorialspoint YouTube\">YouTube</a>,\n",
       " <a class=\"dropdown\" href=\"index.htm\"><i class=\"icon icon-home\"></i> Home</a>,\n",
       " <a class=\"dropdown\" href=\"/questions/index.php\"><i class=\"fa fa-send\"></i> Q/A </a>,\n",
       " <a class=\"dropdown\" href=\"tutorialslibrary.htm\"><span class=\"tut-lib\"> Library </span></a>,\n",
       " <a class=\"dropdown\" href=\"videotutorials/index.htm\"><i class=\"fa-toggle-right\"></i> Videos </a>,\n",
       " <a class=\"dropdown\" href=\"tutor_connect/index.php\"><i class=\"fa-user\"> </i> Tutors</a>,\n",
       " <a class=\"dropdown\" href=\"codingground.htm\"><i class=\"fa-code\"></i> Coding Ground </a>,\n",
       " <a class=\"dropdown\" href=\"https://store.tutorialspoint.com/\"><i class=\"fa-usd\"></i> Store </a>,\n",
       " <a class=\"videolink\" href=\"/java_online_training/index.asp\" target=\"_blank\"><img alt=\"Java Video Tutorials\" src=\"/java/images/java-video-tutorials.jpg\"/></a>,\n",
       " <a href=\"/java/index.htm\">Java - Home</a>,\n",
       " <a href=\"/java/java_overview.htm\">Java - Overview</a>,\n",
       " <a href=\"/java/java_environment_setup.htm\">Java - Environment Setup</a>,\n",
       " <a href=\"/java/java_basic_syntax.htm\">Java - Basic Syntax</a>,\n",
       " <a href=\"/java/java_object_classes.htm\">Java - Object &amp; Classes</a>,\n",
       " <a href=\"/java/java_constructors.htm\">Java - Constructors</a>,\n",
       " <a href=\"/java/java_basic_datatypes.htm\">Java - Basic Datatypes</a>,\n",
       " <a href=\"/java/java_variable_types.htm\">Java - Variable Types</a>,\n",
       " <a href=\"/java/java_modifier_types.htm\">Java - Modifier Types</a>,\n",
       " <a href=\"/java/java_basic_operators.htm\">Java - Basic Operators</a>,\n",
       " <a href=\"/java/java_loop_control.htm\">Java - Loop Control</a>,\n",
       " <a href=\"/java/java_decision_making.htm\">Java - Decision Making</a>,\n",
       " <a href=\"/java/java_numbers.htm\">Java - Numbers</a>,\n",
       " <a href=\"/java/java_characters.htm\">Java - Characters</a>,\n",
       " <a href=\"/java/java_strings.htm\">Java - Strings</a>,\n",
       " <a href=\"/java/java_arrays.htm\">Java - Arrays</a>,\n",
       " <a href=\"/java/java_date_time.htm\">Java - Date &amp; Time</a>,\n",
       " <a href=\"/java/java_regular_expressions.htm\">Java - Regular Expressions</a>,\n",
       " <a href=\"/java/java_methods.htm\">Java - Methods</a>,\n",
       " <a href=\"/java/java_files_io.htm\">Java - Files and I/O</a>,\n",
       " <a href=\"/java/java_exceptions.htm\">Java - Exceptions</a>,\n",
       " <a href=\"/java/java_innerclasses.htm\">Java - Inner classes</a>,\n",
       " <a href=\"/java/java_inheritance.htm\">Java - Inheritance</a>,\n",
       " <a href=\"/java/java_overriding.htm\">Java - Overriding</a>,\n",
       " <a href=\"/java/java_polymorphism.htm\">Java - Polymorphism</a>,\n",
       " <a href=\"/java/java_abstraction.htm\">Java - Abstraction</a>,\n",
       " <a href=\"/java/java_encapsulation.htm\">Java - Encapsulation</a>,\n",
       " <a href=\"/java/java_interfaces.htm\">Java - Interfaces</a>,\n",
       " <a href=\"/java/java_packages.htm\">Java - Packages</a>,\n",
       " <a href=\"/java/java_data_structures.htm\">Java - Data Structures</a>,\n",
       " <a href=\"/java/java_collections.htm\">Java - Collections</a>,\n",
       " <a href=\"/java/java_generics.htm\">Java - Generics</a>,\n",
       " <a href=\"/java/java_serialization.htm\">Java - Serialization</a>,\n",
       " <a href=\"/java/java_networking.htm\">Java - Networking</a>,\n",
       " <a href=\"/java/java_sending_email.htm\">Java - Sending Email</a>,\n",
       " <a href=\"/java/java_multithreading.htm\">Java - Multithreading</a>,\n",
       " <a href=\"/java/java_applet_basics.htm\">Java - Applet Basics</a>,\n",
       " <a href=\"/java/java_documentation.htm\">Java - Documentation</a>,\n",
       " <a href=\"/java/java_questions_answers.htm\">Java - Questions and Answers</a>,\n",
       " <a href=\"/java/java_quick_guide.htm\">Java - Quick Guide</a>,\n",
       " <a href=\"/java/java_useful_resources.htm\">Java - Useful Resources</a>,\n",
       " <a href=\"/java/java_discussion.htm\">Java - Discussion</a>,\n",
       " <a href=\"/javaexamples/index.htm\">Java - Examples</a>,\n",
       " <a href=\"/upsc_ias_exams.htm\" target=\"_top\">UPSC IAS Exams Notes</a>,\n",
       " <a href=\"/developers_best_practices/index.htm\" target=\"_top\">Developer's Best Practices</a>,\n",
       " <a href=\"/questions_and_answers.htm\" target=\"_top\">Questions and Answers</a>,\n",
       " <a href=\"/effective_resume_writing.htm\" target=\"_top\">Effective Resume Writing</a>,\n",
       " <a href=\"/hr_interview_questions/index.htm\" target=\"_top\">HR Interview Questions</a>,\n",
       " <a href=\"/computer_glossary.htm\" target=\"_top\">Computer Glossary</a>,\n",
       " <a href=\"/computer_whoiswho.htm\" target=\"_top\">Who is Who</a>,\n",
       " <a href=\"/index.htm\"><i class=\"icon icon-arrow-circle-o-left big-font\"></i> Previous Page</a>,\n",
       " <a href=\"/java/java_overview.htm\">Next Page <i class=\"icon icon-arrow-circle-o-right big-font\"></i> </a>,\n",
       " <a href=\"/java/java_pdf_version.htm\"> PDF Version</a>,\n",
       " <a href=\"/java/java_quick_guide.htm\"> Quick Guide</a>,\n",
       " <a href=\"/java/java_useful_resources.htm\"> Resources</a>,\n",
       " <a href=\"/java/java_discussion.htm\"> Discussion</a>,\n",
       " <a href=\"/index.htm\"><i class=\"icon icon-arrow-circle-o-left big-font\"></i> Previous Page</a>,\n",
       " <a href=\"/cgi-bin/printpage.cgi\" target=\"_blank\"><i class=\"icon icon-print big-font\"></i> Print</a>,\n",
       " <a href=\"/java/java_overview.htm\">Next Page <i class=\"icon icon-arrow-circle-o-right big-font\"></i> </a>,\n",
       " <a href=\"javascript:void(0)\" onclick=\"var sTop = window.screen.height/2-(218); var sLeft = window.screen.width/2-(313);window.open('https://www.facebook.com/sharer.php?u=' + 'https://www.tutorialspoint.com/java/index.htm','sharer','toolbar=0,status=0,width=626,height=456,top='+sTop+',left='+sLeft);return false;\">\n",
       " <img alt=\"img\" src=\"/images/facebookIcon.jpg\"/>\n",
       " </a>,\n",
       " <a href=\"javascript:void(0)\" onclick=\"var sTop = window.screen.height/2-(218); var sLeft = window.screen.width/2-(313);window.open('https://twitter.com/share?url=' + 'https://www.tutorialspoint.com/java/index.htm','sharer','toolbar=0,status=0,width=626,height=456,top='+sTop+',left='+sLeft);return false;\">\n",
       " <img alt=\"img\" src=\"/images/twitterIcon.jpg\"/>\n",
       " </a>,\n",
       " <a href=\"javascript:void(0)\" onclick=\"var sTop = window.screen.height/2-(218); var sLeft = window.screen.width/2-(313);window.open('https://www.linkedin.com/cws/share?url=' + 'https://www.tutorialspoint.com/java/index.htm&amp;title='+ document.title,'sharer','toolbar=0,status=0,width=626,height=456,top='+sTop+',left='+sLeft);return false;\">\n",
       " <img alt=\"img\" src=\"/images/linkedinIcon.jpg\"/>\n",
       " </a>,\n",
       " <a href=\"javascript:void(0)\" onclick=\"var sTop = window.screen.height/2-(218); var sLeft = window.screen.width/2-(313);window.open('https://plus.google.com/share?url=https://www.tutorialspoint.com/java/index.htm','sharer','toolbar=0,status=0,width=626,height=456,top='+sTop+',left='+sLeft);return false;\">\n",
       " <img alt=\"img\" src=\"/images/googlePlusIcon.jpg\"/>\n",
       " </a>,\n",
       " <a href=\"javascript:void(0)\" onclick=\"var sTop = window.screen.height/2-(218); var sLeft = window.screen.width/2-(313);window.open('https://www.stumbleupon.com/submit?url=https://www.tutorialspoint.com/java/index.htm&amp;title='+ document.title,'sharer','toolbar=0,status=0,width=626,height=456,top='+sTop+',left='+sLeft);return false;\">\n",
       " <img alt=\"img\" src=\"/images/StumbleUponIcon.jpg\"/>\n",
       " </a>,\n",
       " <a href=\"javascript:void(0)\" onclick=\"var sTop = window.screen.height/2-(218); var sLeft = window.screen.width/2-(313);window.open('https://reddit.com/submit?url=https://www.tutorialspoint.com/java/index.htm&amp;title='+ document.title,'sharer','toolbar=0,status=0,width=626,height=656,top='+sTop+',left='+sLeft);return false;\">\n",
       " <img alt=\"img\" src=\"/images/reddit.jpg\"/>\n",
       " </a>,\n",
       " <a class=\"logo\" href=\"index.htm\"> <img alt=\"Tutorials Point\" class=\"img-responsive\" src=\"/scripts/img/logo-footer.png\"/> </a>,\n",
       " <a href=\"/about/about_privacy.htm\">Privacy Policy</a>,\n",
       " <a href=\"/about/about_cookies.htm\">Cookies Policy</a>,\n",
       " <a href=\"/about/contact_us.htm\">Contact</a>,\n",
       " <a href=\"javascript:void(0)\" id=\"banner-accept\">Accept</a>,\n",
       " <a href=\"/about/about_cookies.htm\" id=\"banner-learn\" target=\"_blank\">Learn more</a>]"
      ]
     },
     "execution_count": 9,
     "metadata": {},
     "output_type": "execute_result"
    }
   ],
   "source": [
    "#ALL THE LINKS:\n",
    "\n",
    "all_links"
   ]
  },
  {
   "cell_type": "code",
   "execution_count": 10,
   "metadata": {},
   "outputs": [
    {
     "name": "stdout",
     "output_type": "stream",
     "text": [
      "index.htm\n",
      "/about/about_careers.htm\n",
      "/programming_examples/\n",
      "https://www.tutorialspoint.com/whiteboard.htm\n",
      "https://www.tutorialspoint.com/netmeeting.php\n",
      "/online_dev_tools.htm\n",
      "/articles/index.php\n",
      "https://www.facebook.com/tutorialspointindia\n",
      "https://plus.google.com/u/0/116678774017490391259/posts\n",
      "https://www.twitter.com/tutorialspoint\n",
      "https://www.linkedin.com/company/tutorialspoint\n",
      "https://www.youtube.com/channel/UCVLbzhxVTiTLiVKeGV7WEBg\n",
      "index.htm\n",
      "/questions/index.php\n",
      "tutorialslibrary.htm\n",
      "videotutorials/index.htm\n",
      "tutor_connect/index.php\n",
      "codingground.htm\n",
      "https://store.tutorialspoint.com/\n",
      "/java_online_training/index.asp\n",
      "/java/index.htm\n",
      "/java/java_overview.htm\n",
      "/java/java_environment_setup.htm\n",
      "/java/java_basic_syntax.htm\n",
      "/java/java_object_classes.htm\n",
      "/java/java_constructors.htm\n",
      "/java/java_basic_datatypes.htm\n",
      "/java/java_variable_types.htm\n",
      "/java/java_modifier_types.htm\n",
      "/java/java_basic_operators.htm\n",
      "/java/java_loop_control.htm\n",
      "/java/java_decision_making.htm\n",
      "/java/java_numbers.htm\n",
      "/java/java_characters.htm\n",
      "/java/java_strings.htm\n",
      "/java/java_arrays.htm\n",
      "/java/java_date_time.htm\n",
      "/java/java_regular_expressions.htm\n",
      "/java/java_methods.htm\n",
      "/java/java_files_io.htm\n",
      "/java/java_exceptions.htm\n",
      "/java/java_innerclasses.htm\n",
      "/java/java_inheritance.htm\n",
      "/java/java_overriding.htm\n",
      "/java/java_polymorphism.htm\n",
      "/java/java_abstraction.htm\n",
      "/java/java_encapsulation.htm\n",
      "/java/java_interfaces.htm\n",
      "/java/java_packages.htm\n",
      "/java/java_data_structures.htm\n",
      "/java/java_collections.htm\n",
      "/java/java_generics.htm\n",
      "/java/java_serialization.htm\n",
      "/java/java_networking.htm\n",
      "/java/java_sending_email.htm\n",
      "/java/java_multithreading.htm\n",
      "/java/java_applet_basics.htm\n",
      "/java/java_documentation.htm\n",
      "/java/java_questions_answers.htm\n",
      "/java/java_quick_guide.htm\n",
      "/java/java_useful_resources.htm\n",
      "/java/java_discussion.htm\n",
      "/javaexamples/index.htm\n",
      "/upsc_ias_exams.htm\n",
      "/developers_best_practices/index.htm\n",
      "/questions_and_answers.htm\n",
      "/effective_resume_writing.htm\n",
      "/hr_interview_questions/index.htm\n",
      "/computer_glossary.htm\n",
      "/computer_whoiswho.htm\n",
      "/index.htm\n",
      "/java/java_overview.htm\n",
      "/java/java_pdf_version.htm\n",
      "/java/java_quick_guide.htm\n",
      "/java/java_useful_resources.htm\n",
      "/java/java_discussion.htm\n",
      "/index.htm\n",
      "/cgi-bin/printpage.cgi\n",
      "/java/java_overview.htm\n",
      "javascript:void(0)\n",
      "javascript:void(0)\n",
      "javascript:void(0)\n",
      "javascript:void(0)\n",
      "javascript:void(0)\n",
      "javascript:void(0)\n",
      "index.htm\n",
      "/about/about_privacy.htm\n",
      "/about/about_cookies.htm\n",
      "/about/contact_us.htm\n",
      "javascript:void(0)\n",
      "/about/about_cookies.htm\n"
     ]
    }
   ],
   "source": [
    "for link in all_links:\n",
    "    print(link.get(\"href\"))"
   ]
  },
  {
   "cell_type": "code",
   "execution_count": 11,
   "metadata": {},
   "outputs": [
    {
     "name": "stdout",
     "output_type": "stream",
     "text": [
      "/images/loading-cg.gif\n",
      "/java/images/logo.png\n",
      "theme/css/icons/image-editor.png\n",
      "/java/images/java-mini-logo.jpg\n",
      "/java/images/java-video-tutorials.jpg\n",
      "/java/images/java_programming.jpg\n",
      "/images/facebookIcon.jpg\n",
      "/images/twitterIcon.jpg\n",
      "/images/linkedinIcon.jpg\n",
      "/images/googlePlusIcon.jpg\n",
      "/images/StumbleUponIcon.jpg\n",
      "/images/reddit.jpg\n",
      "/scripts/img/logo-footer.png\n"
     ]
    }
   ],
   "source": [
    "#ALL THE IMAGES:\n",
    "\n",
    "img_links=soup.find_all(\"img\")\n",
    "for ilink in img_links:\n",
    "    print(ilink.get(\"src\"))"
   ]
  },
  {
   "cell_type": "code",
   "execution_count": 12,
   "metadata": {},
   "outputs": [
    {
     "name": "stdout",
     "output_type": "stream",
     "text": [
      "[]\n"
     ]
    }
   ],
   "source": [
    "#NO TABLES AVAILABLE:\n",
    "\n",
    "all_tables=soup.find_all('table')\n",
    "print(all_tables)"
   ]
  },
  {
   "cell_type": "code",
   "execution_count": 13,
   "metadata": {},
   "outputs": [
    {
     "name": "stdout",
     "output_type": "stream",
     "text": [
      "tutorialspoint\n",
      "None\n",
      "None\n",
      "None\n",
      "None\n",
      "None\n",
      "None\n",
      "tutorialspoint @ Facebook\n",
      "tutorialspoint @ Google+\n",
      "tutorialspoint @ Twitter\n",
      "tutorialspoint @ Linkedin\n",
      "tutorialspoint YouTube\n",
      "None\n",
      "None\n",
      "None\n",
      "None\n",
      "None\n",
      "None\n",
      "None\n",
      "None\n",
      "None\n",
      "None\n",
      "None\n",
      "None\n",
      "None\n",
      "None\n",
      "None\n",
      "None\n",
      "None\n",
      "None\n",
      "None\n",
      "None\n",
      "None\n",
      "None\n",
      "None\n",
      "None\n",
      "None\n",
      "None\n",
      "None\n",
      "None\n",
      "None\n",
      "None\n",
      "None\n",
      "None\n",
      "None\n",
      "None\n",
      "None\n",
      "None\n",
      "None\n",
      "None\n",
      "None\n",
      "None\n",
      "None\n",
      "None\n",
      "None\n",
      "None\n",
      "None\n",
      "None\n",
      "None\n",
      "None\n",
      "None\n",
      "None\n",
      "None\n",
      "None\n",
      "None\n",
      "None\n",
      "None\n",
      "None\n",
      "None\n",
      "None\n",
      "None\n",
      "None\n",
      "None\n",
      "None\n",
      "None\n",
      "None\n",
      "None\n",
      "None\n",
      "None\n",
      "None\n",
      "None\n",
      "None\n",
      "None\n",
      "None\n",
      "None\n",
      "None\n",
      "None\n",
      "None\n",
      "None\n",
      "None\n",
      "None\n"
     ]
    }
   ],
   "source": [
    "for link in all_links:\n",
    "    if(link.get(\"title\")!=\"None\"):\n",
    "        print(link.get(\"title\"))\n",
    "    else:\n",
    "        print(\"No\")"
   ]
  },
  {
   "cell_type": "code",
   "execution_count": null,
   "metadata": {
    "collapsed": true
   },
   "outputs": [],
   "source": []
  },
  {
   "cell_type": "code",
   "execution_count": null,
   "metadata": {
    "collapsed": true
   },
   "outputs": [],
   "source": []
  }
 ],
 "metadata": {
  "kernelspec": {
   "display_name": "Python [default]",
   "language": "python",
   "name": "python3"
  },
  "language_info": {
   "codemirror_mode": {
    "name": "ipython",
    "version": 3
   },
   "file_extension": ".py",
   "mimetype": "text/x-python",
   "name": "python",
   "nbconvert_exporter": "python",
   "pygments_lexer": "ipython3",
   "version": "3.6.3"
  },
  "varInspector": {
   "cols": {
    "lenName": 16,
    "lenType": 16,
    "lenVar": 40
   },
   "kernels_config": {
    "python": {
     "delete_cmd_postfix": "",
     "delete_cmd_prefix": "del ",
     "library": "var_list.py",
     "varRefreshCmd": "print(var_dic_list())"
    },
    "r": {
     "delete_cmd_postfix": ") ",
     "delete_cmd_prefix": "rm(",
     "library": "var_list.r",
     "varRefreshCmd": "cat(var_dic_list()) "
    }
   },
   "types_to_exclude": [
    "module",
    "function",
    "builtin_function_or_method",
    "instance",
    "_Feature"
   ],
   "window_display": false
  }
 },
 "nbformat": 4,
 "nbformat_minor": 2
}
