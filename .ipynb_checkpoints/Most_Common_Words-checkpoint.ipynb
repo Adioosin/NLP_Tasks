{
 "cells": [
  {
   "cell_type": "code",
   "execution_count": 1,
   "metadata": {},
   "outputs": [
    {
     "name": "stdout",
     "output_type": "stream",
     "text": [
      "<bound method FreqDist.tabulate of FreqDist({'the': 4143, ',': 3405, 'of': 3031, '.': 2493, 'and': 1923, 'to': 1829, 'in': 1319, 'a': 867, 'for': 806, 'is': 649, ...})>\n",
      "<bound method FreqDist.tabulate of FreqDist({'the': 5580, ',': 5188, '.': 4030, 'of': 2849, 'and': 2146, 'to': 2116, 'a': 1993, 'in': 1893, 'for': 943, 'The': 806, ...})>\n",
      "<bound method FreqDist.tabulate of FreqDist({'the': 2295, ',': 1913, 'of': 1494, '.': 1382, 'and': 921, 'to': 882, 'in': 724, 'a': 655, 'is': 533, 'that': 475, ...})>\n",
      "<bound method FreqDist.tabulate of FreqDist({'.': 4057, ',': 3488, 'the': 3370, 'and': 1622, 'a': 1354, 'of': 1322, 'to': 1309, '``': 998, \"''\": 995, 'was': 914, ...})>\n",
      "<bound method FreqDist.tabulate of FreqDist({'the': 4300, ',': 3849, '.': 3453, 'of': 2390, 'and': 2144, 'to': 1797, 'a': 1737, 'in': 1427, 'is': 959, 'for': 776, ...})>\n"
     ]
    }
   ],
   "source": [
    "import nltk\n",
    "from nltk.corpus import stopwords\n",
    "from nltk.corpus import brown\n",
    "\n",
    "topics = ['government', 'news', 'religion','adventure','hobbies']\n",
    "for topic in topics:\n",
    "    words = [word for word in brown.words(categories=topic)]\n",
    "    freqdist = nltk.FreqDist(words)\n",
    "    \n",
    "    print(freqdist.tabulate)"
   ]
  },
  {
   "cell_type": "code",
   "execution_count": 2,
   "metadata": {},
   "outputs": [
    {
     "name": "stdout",
     "output_type": "stream",
     "text": [
      "[('the', 4300), (',', 3849), ('.', 3453), ('of', 2390), ('and', 2144), ('to', 1797), ('a', 1737), ('in', 1427), ('is', 959), ('for', 776), ('with', 595), ('on', 515), ('that', 514), (';', 512), ('are', 508), ('be', 508), ('it', 476), ('The', 458), ('or', 457), ('as', 452), ('you', 383), ('have', 351), ('by', 332), ('at', 328), ('?', 320), ('this', 305), ('--', 295), ('(', 285), (')', 280), ('from', 278), ('your', 271), ('can', 268), ('was', 265), ('will', 264), (\"''\", 261), ('one', 258), ('which', 252), ('his', 238), ('has', 231), ('``', 227), ('an', 226), ('not', 215), (':', 197), ('all', 195), ('more', 189), ('they', 177), ('but', 170), ('than', 159), ('he', 155), ('I', 154), ('their', 152), ('its', 150), ('This', 136), ('may', 131), ('other', 129), ('It', 129), ('time', 127), ('them', 127), ('only', 121), ('A', 121), ('when', 119), ('two', 116), ('In', 116), ('been', 115), ('first', 114), ('many', 110), ('into', 108), ('most', 107), ('so', 106), ('if', 106), ('were', 106), ('who', 103), ('new', 103), ('up', 101), ('these', 101), ('also', 100), ('we', 100), ('used', 99), ('about', 98), ('do', 97), ('good', 96), ('there', 96), ('use', 90), ('some', 89), ('!', 88), ('such', 88), ('work', 87), ('any', 87), ('had', 85), ('no', 85), ('out', 84), ('feed', 84), ('must', 83), ('each', 82), ('For', 81), ('much', 81), ('water', 80), ('years', 79), ('what', 78), ('make', 78)]\n"
     ]
    }
   ],
   "source": [
    "print(freqdist.most_common(100))"
   ]
  },
  {
   "cell_type": "code",
   "execution_count": 3,
   "metadata": {},
   "outputs": [
    {
     "name": "stdout",
     "output_type": "stream",
     "text": [
      "[('the', 4300), (',', 3849), ('.', 3453), ('of', 2390), ('and', 2144)]\n"
     ]
    }
   ],
   "source": [
    "print(freqdist.most_common(5))"
   ]
  },
  {
   "cell_type": "code",
   "execution_count": 4,
   "metadata": {
    "collapsed": true
   },
   "outputs": [],
   "source": [
    "#INAUGURAL CORPUS"
   ]
  },
  {
   "cell_type": "code",
   "execution_count": 5,
   "metadata": {},
   "outputs": [
    {
     "name": "stdout",
     "output_type": "stream",
     "text": [
      "[(',', 137), ('the', 133), ('of', 116), ('and', 96), ('.', 95)]\n"
     ]
    }
   ],
   "source": [
    "import nltk\n",
    "from nltk.corpus import stopwords\n",
    "from nltk.corpus import inaugural\n",
    "\n",
    "words = [word for word in inaugural.words(fileids='2005-Bush.txt')]\n",
    "freqdist = nltk.FreqDist(words)\n",
    "    \n",
    "print(freqdist.most_common(5))"
   ]
  },
  {
   "cell_type": "code",
   "execution_count": null,
   "metadata": {},
   "outputs": [],
   "source": []
  },
  {
   "cell_type": "code",
   "execution_count": null,
   "metadata": {
    "collapsed": true
   },
   "outputs": [],
   "source": []
  },
  {
   "cell_type": "code",
   "execution_count": null,
   "metadata": {
    "collapsed": true
   },
   "outputs": [],
   "source": []
  }
 ],
 "metadata": {
  "kernelspec": {
   "display_name": "Python [default]",
   "language": "python",
   "name": "python3"
  },
  "language_info": {
   "codemirror_mode": {
    "name": "ipython",
    "version": 3
   },
   "file_extension": ".py",
   "mimetype": "text/x-python",
   "name": "python",
   "nbconvert_exporter": "python",
   "pygments_lexer": "ipython3",
   "version": "3.6.3"
  },
  "varInspector": {
   "cols": {
    "lenName": 16,
    "lenType": 16,
    "lenVar": 40
   },
   "kernels_config": {
    "python": {
     "delete_cmd_postfix": "",
     "delete_cmd_prefix": "del ",
     "library": "var_list.py",
     "varRefreshCmd": "print(var_dic_list())"
    },
    "r": {
     "delete_cmd_postfix": ") ",
     "delete_cmd_prefix": "rm(",
     "library": "var_list.r",
     "varRefreshCmd": "cat(var_dic_list()) "
    }
   },
   "types_to_exclude": [
    "module",
    "function",
    "builtin_function_or_method",
    "instance",
    "_Feature"
   ],
   "window_display": false
  }
 },
 "nbformat": 4,
 "nbformat_minor": 2
}
