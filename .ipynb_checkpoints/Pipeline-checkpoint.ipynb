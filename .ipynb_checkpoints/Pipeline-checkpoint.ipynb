{
 "cells": [
  {
   "cell_type": "code",
   "execution_count": 2,
   "metadata": {},
   "outputs": [
    {
     "name": "stdout",
     "output_type": "stream",
     "text": [
      "[('Apex', 'NNP'), ('Legends', 'NNP'), ('is', 'VBZ'), ('a', 'DT'), ('free-to-play', 'JJ'), ('battle', 'NN'), ('royale', 'JJ'), ('game', 'NN'), ('developed', 'VBN'), ('by', 'IN'), ('Respawn', 'NNP'), ('Entertainment', 'NNP'), ('and', 'CC'), ('published', 'VBN'), ('by', 'IN'), ('Electronic', 'NNP'), ('Arts', 'NNS'), ('.', '.')]\n",
      "[('It', 'PRP'), ('was', 'VBD'), ('released', 'VBN'), ('for', 'IN'), ('Microsoft', 'NNP'), ('Windows', 'NNP'), (',', ','), ('PlayStation', 'NNP'), ('4', 'CD'), (',', ','), ('and', 'CC'), ('Xbox', 'NNP'), ('One', 'NNP'), ('on', 'IN'), ('February', 'NNP'), ('4', 'CD'), (',', ','), ('2019', 'CD'), (',', ','), ('without', 'IN'), ('any', 'DT'), ('prior', 'JJ'), ('announcement', 'NN'), ('or', 'CC'), ('marketing', 'NN'), ('.', '.')]\n",
      "[('The', 'DT'), ('gameplay', 'NN'), ('of', 'IN'), ('Apex', 'NNP'), ('fuses', 'VBZ'), ('elements', 'NNS'), ('from', 'IN'), ('a', 'DT'), ('variety', 'NN'), ('of', 'IN'), ('video', 'JJ'), ('games', 'NNS'), (',', ','), ('including', 'VBG'), ('Respawn', 'NNP'), (\"'s\", 'POS'), ('own', 'JJ'), ('Titanfall', 'NNP'), ('series', 'NN'), (',', ','), ('battle', 'NN'), ('royale', 'JJ'), ('games', 'NNS'), (',', ','), ('class-based', 'JJ'), ('shooters', 'NNS'), (',', ','), ('and', 'CC'), ('those', 'DT'), ('with', 'IN'), ('evolving', 'VBG'), ('narratives', 'NNS'), ('.', '.')]\n",
      "[('Approximately', 'RB'), ('sixty', 'JJ'), ('players', 'NNS'), ('are', 'VBP'), ('pitted', 'VBN'), ('against', 'IN'), ('each', 'DT'), ('other', 'JJ'), ('on', 'IN'), ('an', 'DT'), ('island', 'NN'), ('in', 'IN'), ('squads', 'NNS'), ('of', 'IN'), ('three', 'CD'), (',', ','), ('with', 'IN'), ('one', 'CD'), ('player', 'NN'), ('controlling', 'VBG'), ('where', 'WRB'), ('their', 'PRP$'), ('squad', 'NN'), ('lands', 'NNS'), ('.', '.')]\n",
      "[('The', 'DT'), ('squads', 'NNS'), ('then', 'RB'), ('must', 'MD'), ('scavenge', 'VB'), ('for', 'IN'), ('weapons', 'NNS'), ('and', 'CC'), ('other', 'JJ'), ('resources', 'NNS'), ('to', 'TO'), ('fight', 'VB'), ('other', 'JJ'), ('squads', 'NNS'), (',', ','), ('during', 'IN'), ('which', 'WDT'), ('the', 'DT'), ('play', 'NN'), ('area', 'NN'), ('gradually', 'RB'), ('constricts', 'VBZ'), ('in', 'IN'), ('size', 'NN'), ('until', 'IN'), ('one', 'CD'), ('squad', 'NN'), ('remains', 'VBZ'), (',', ','), ('thus', 'RB'), ('ending', 'VBG'), ('the', 'DT'), ('match', 'NN'), ('.', '.')]\n",
      "[('The', 'DT'), ('game', 'NN'), ('also', 'RB'), ('features', 'VBZ'), ('care', 'NN'), ('packages', 'NNS'), ('and', 'CC'), ('the', 'DT'), ('ability', 'NN'), ('to', 'TO'), ('revive', 'VB'), ('your', 'PRP$'), ('teammates', 'NNS'), ('within', 'IN'), ('a', 'DT'), ('certain', 'JJ'), ('amount', 'NN'), ('of', 'IN'), ('time', 'NN'), ('.', '.')]\n",
      "[('Communication', 'NN'), ('with', 'IN'), ('team', 'NN'), ('members', 'NNS'), ('can', 'MD'), ('be', 'VB'), ('done', 'VBN'), ('through', 'IN'), ('voice', 'NN'), ('chat', 'NNS'), ('or', 'CC'), ('through', 'IN'), ('a', 'DT'), ('ping', 'NN'), ('system', 'NN'), (',', ','), ('allowing', 'VBG'), ('teammates', 'NNS'), ('to', 'TO'), ('mark', 'VB'), ('supplies', 'NNS'), (',', ','), ('locations', 'NNS'), (',', ','), ('and', 'CC'), ('enemies', 'NNS'), ('with', 'IN'), ('ease', 'NN'), ('.', '.')]\n",
      "[('The', 'DT'), ('game', 'NN'), ('features', 'VBZ'), ('eight', 'CD'), ('heroes', 'NNS'), ('to', 'TO'), ('choose', 'VB'), ('from', 'IN'), ('(', '('), ('though', 'IN'), ('two', 'CD'), ('of', 'IN'), ('them', 'PRP'), ('are', 'VBP'), ('locked', 'VBN'), ('by', 'IN'), ('default', 'NN'), (')', ')'), (',', ','), ('and', 'CC'), ('features', 'VBZ'), ('a', 'DT'), ('microtransaction', 'NN'), ('system', 'NN'), ('for', 'IN'), ('cosmetic', 'JJ'), ('items', 'NNS'), ('.', '.')]\n",
      "[('The', 'DT'), ('concept', 'NN'), ('for', 'IN'), ('the', 'DT'), ('game', 'NN'), ('came', 'VBD'), ('to', 'TO'), ('fruition', 'NN'), ('during', 'IN'), ('the', 'DT'), ('development', 'NN'), ('of', 'IN'), ('a', 'DT'), ('new', 'JJ'), ('Titanfall', 'NNP'), ('game', 'NN'), (',', ','), ('after', 'IN'), ('EA', 'NNP'), (\"'s\", 'POS'), ('acquisition', 'NN'), ('of', 'IN'), ('Respawn', 'NNP'), ('in', 'IN'), ('2017', 'CD'), ('.', '.')]\n",
      "[('The', 'DT'), ('sudden', 'JJ'), ('success', 'NN'), ('of', 'IN'), ('the', 'DT'), ('battle', 'NN'), ('royale', 'NN'), ('genre', 'NN'), ('prompted', 'VBD'), ('the', 'DT'), ('developers', 'NNS'), ('to', 'TO'), ('create', 'VB'), ('one', 'CD'), ('of', 'IN'), ('their', 'PRP$'), ('own', 'JJ'), ('that', 'IN'), ('incorporates', 'VBZ'), ('elements', 'NNS'), ('of', 'IN'), ('the', 'DT'), ('series', 'NN'), (',', ','), ('in', 'IN'), ('addition', 'NN'), ('to', 'TO'), ('the', 'DT'), ('concepts', 'NNS'), ('seen', 'VBN'), ('in', 'IN'), ('games', 'NNS'), ('throughout', 'IN'), ('the', 'DT'), ('past', 'JJ'), ('decade', 'NN'), ('.', '.')]\n",
      "[('Following', 'VBG'), ('its', 'PRP$'), ('release', 'NN'), (',', ','), ('the', 'DT'), ('developers', 'NNS'), ('announced', 'VBD'), ('plans', 'NNS'), ('for', 'IN'), ('cross-platform', 'NN'), ('play', 'NN'), (',', ','), ('as', 'RB'), ('well', 'RB'), ('as', 'IN'), ('ports', 'NNS'), ('for', 'IN'), ('iOS', 'NN'), (',', ','), ('Android', 'NNP'), (',', ','), ('and', 'CC'), ('the', 'DT'), ('Nintendo', 'NNP'), ('Switch', 'NNP'), (',', ','), ('in', 'IN'), ('the', 'DT'), ('future', 'NN'), ('.', '.')]\n",
      "[('Apex', 'NNP'), ('Legends', 'NNP'), ('received', 'VBD'), ('very', 'RB'), ('positive', 'JJ'), ('reviews', 'NNS'), ('from', 'IN'), ('critics', 'NNS'), (',', ','), ('who', 'WP'), ('praised', 'VBD'), ('its', 'PRP$'), ('gameplay', 'NN'), (',', ','), ('progression', 'NN'), ('system', 'NN'), (',', ','), ('and', 'CC'), ('fusion', 'NN'), ('of', 'IN'), ('elements', 'NNS'), ('from', 'IN'), ('various', 'JJ'), ('genres', 'NNS'), ('.', '.')]\n",
      "[('Some', 'DT'), ('considered', 'VBD'), ('it', 'PRP'), ('a', 'DT'), ('worthy', 'JJ'), ('competitor', 'NN'), ('to', 'TO'), ('Fortnite', 'NNP'), ('Battle', 'NNP'), ('Royale', 'NNP'), (',', ','), ('a', 'DT'), ('similar', 'JJ'), ('game', 'NN'), ('that', 'WDT'), ('had', 'VBD'), ('gained', 'VBN'), ('massive', 'JJ'), ('popularity', 'NN'), ('in', 'IN'), ('the', 'DT'), ('previous', 'JJ'), ('year', 'NN'), ('.', '.')]\n",
      "[('The', 'DT'), ('game', 'NN'), ('surpassed', 'VBD'), ('over', 'IN'), ('25', 'CD'), ('million', 'CD'), ('players', 'NNS'), ('by', 'IN'), ('the', 'DT'), ('end', 'NN'), ('of', 'IN'), ('its', 'PRP$'), ('first', 'JJ'), ('week', 'NN'), (',', ','), ('and', 'CC'), ('50', 'CD'), ('million', 'CD'), ('within', 'IN'), ('its', 'PRP$'), ('first', 'JJ'), ('month', 'NN'), ('.', '.')]\n"
     ]
    }
   ],
   "source": [
    "import nltk\n",
    "texts =  [\"\"\"Apex Legends is a free-to-play battle royale game developed by Respawn Entertainment and published by Electronic Arts. It was released for Microsoft Windows, PlayStation 4, and Xbox One on February 4, 2019, without any prior announcement or marketing.\n",
    "\n",
    "The gameplay of Apex fuses elements from a variety of video games, including Respawn's own Titanfall series, battle royale games, class-based shooters, and those with evolving narratives. Approximately sixty players are pitted against each other on an island in squads of three, with one player controlling where their squad lands. The squads then must scavenge for weapons and other resources to fight other squads, during which the play area gradually constricts in size until one squad remains, thus ending the match. The game also features care packages and the ability to revive your teammates within a certain amount of time. Communication with team members can be done through voice chat or through a ping system, allowing teammates to mark supplies, locations, and enemies with ease. The game features eight heroes to choose from (though two of them are locked by default), and features a microtransaction system for cosmetic items.\n",
    "\n",
    "The concept for the game came to fruition during the development of a new Titanfall game, after EA's acquisition of Respawn in 2017. The sudden success of the battle royale genre prompted the developers to create one of their own that incorporates elements of the series, in addition to the concepts seen in games throughout the past decade. Following its release, the developers announced plans for cross-platform play, as well as ports for iOS, Android, and the Nintendo Switch, in the future.\n",
    "\n",
    "Apex Legends received very positive reviews from critics, who praised its gameplay, progression system, and fusion of elements from various genres. Some considered it a worthy competitor to Fortnite Battle Royale, a similar game that had gained massive popularity in the previous year. The game surpassed over 25 million players by the end of its first week, and 50 million within its first month.\"\"\"]\n",
    "\n",
    "for text in texts:\n",
    "    sentences = nltk.sent_tokenize(text)\n",
    "    for sentence in sentences:\n",
    "        words = nltk.word_tokenize(sentence)\n",
    "        tagged_words = nltk.pos_tag(words)\n",
    "        print(tagged_words)"
   ]
  },
  {
   "cell_type": "code",
   "execution_count": null,
   "metadata": {
    "collapsed": true
   },
   "outputs": [],
   "source": []
  },
  {
   "cell_type": "code",
   "execution_count": null,
   "metadata": {
    "collapsed": true
   },
   "outputs": [],
   "source": []
  },
  {
   "cell_type": "code",
   "execution_count": null,
   "metadata": {
    "collapsed": true
   },
   "outputs": [],
   "source": []
  },
  {
   "cell_type": "code",
   "execution_count": null,
   "metadata": {
    "collapsed": true
   },
   "outputs": [],
   "source": []
  }
 ],
 "metadata": {
  "kernelspec": {
   "display_name": "Python [default]",
   "language": "python",
   "name": "python3"
  },
  "language_info": {
   "codemirror_mode": {
    "name": "ipython",
    "version": 3
   },
   "file_extension": ".py",
   "mimetype": "text/x-python",
   "name": "python",
   "nbconvert_exporter": "python",
   "pygments_lexer": "ipython3",
   "version": "3.6.3"
  },
  "varInspector": {
   "cols": {
    "lenName": 16,
    "lenType": 16,
    "lenVar": 40
   },
   "kernels_config": {
    "python": {
     "delete_cmd_postfix": "",
     "delete_cmd_prefix": "del ",
     "library": "var_list.py",
     "varRefreshCmd": "print(var_dic_list())"
    },
    "r": {
     "delete_cmd_postfix": ") ",
     "delete_cmd_prefix": "rm(",
     "library": "var_list.r",
     "varRefreshCmd": "cat(var_dic_list()) "
    }
   },
   "types_to_exclude": [
    "module",
    "function",
    "builtin_function_or_method",
    "instance",
    "_Feature"
   ],
   "window_display": false
  }
 },
 "nbformat": 4,
 "nbformat_minor": 2
}
